{
 "cells": [
  {
   "cell_type": "markdown",
   "metadata": {},
   "source": [
    "# Aprendizaje\n",
    "\n",
    "1. ¿Qué significa que el batch_size sea 4? Explica cómo afectaría al cálculo de los pesos en cada epoch.\n",
    "\n",
    "    El `batch_size` controla cuántas instancias del dataset observaremos antes de actualizar los pesos internos del modelo. Si se aumenta el `batch_size` generalmente aumenta la pérdida del modelo pero se puede corregir disminuyendo el `learning_rate` por el mismo factor como se detalla [aquí](https://arxiv.org/abs/1711.00489).\n",
    "\n",
    "2. ¿Por qué al dividir el conjunto de entrenamiento el parámetro shuffle está a True, mientras que en el conjunto de test está a False?\n",
    "\n",
    "    El orden de los datos a la hora de entrenar el modelo se reflejará en los parámetros internos del mismo. Para evitar que el orden de los datos impacte el modelo los reordenamos de manera aleatoria.\n",
    "\n",
    "    Esta consideración es innecesaria a la hora de evaluar nuestras predicciones ya que este paso es independiente del orden de las muestras así que nos ahorramos la reordenación.\n",
    "\n",
    "3. Revisa la constructora de la clase Net:\n",
    "\n",
    "    1. En el constructor, describe cada línea y explica la configuración de cada capa creada.\n",
    "    Importante: hay que describir cada parámetro de cada línea. Ten en cuenta que hay algunos parámetros que se pueden personalizar al gusto del programador, pero hay otros que dependen del tamaño de las imágenes (32x32) y del número de clases que tenemos.\n",
    "\n",
    "    2. En la función forward, explica cada línea de código describiendo el proceso de forward propagation.\n",
    "\n",
    "    \n"
   ]
  },
  {
   "cell_type": "code",
   "execution_count": null,
   "metadata": {},
   "outputs": [
    {
     "ename": "NameError",
     "evalue": "name 'nn' is not defined",
     "output_type": "error",
     "traceback": [
      "\u001b[0;31m---------------------------------------------------------------------------\u001b[0m",
      "\u001b[0;31mNameError\u001b[0m                                 Traceback (most recent call last)",
      "Cell \u001b[0;32mIn[1], line 1\u001b[0m\n\u001b[0;32m----> 1\u001b[0m \u001b[38;5;28;01mclass\u001b[39;00m\u001b[38;5;250m \u001b[39m\u001b[38;5;21;01mNet\u001b[39;00m(\u001b[43mnn\u001b[49m\u001b[38;5;241m.\u001b[39mModule):\n\u001b[1;32m      2\u001b[0m     \u001b[38;5;28;01mdef\u001b[39;00m\u001b[38;5;250m \u001b[39m\u001b[38;5;21m__init__\u001b[39m(\u001b[38;5;28mself\u001b[39m):\n\u001b[1;32m      3\u001b[0m         \u001b[38;5;66;03m# En primer lugar heredamos los valores del constructor de \u001b[39;00m\n\u001b[1;32m      4\u001b[0m         \u001b[38;5;66;03m#  la clase padre i.e. `nn.Module`\u001b[39;00m\n\u001b[1;32m      5\u001b[0m         \u001b[38;5;28msuper\u001b[39m()\u001b[38;5;241m.\u001b[39m\u001b[38;5;21m__init__\u001b[39m()\n",
      "\u001b[0;31mNameError\u001b[0m: name 'nn' is not defined"
     ]
    }
   ],
   "source": [
    "class Net(nn.Module):\n",
    "    def __init__(self):\n",
    "        # En primer lugar heredamos los valores del constructor de \n",
    "        #  la clase padre i.e. `nn.Module`\n",
    "        super().__init__()\n",
    "        # Añadimos una convolución a los datos con:\n",
    "        # - 3 canales de entrada (3 por RGB)\n",
    "        # - 6 canales de salida (Encajaran con la entrada del siguiente paso)\n",
    "        # - 5 tamaño del kernel (Un cuadrado de 5 pixels)\n",
    "        self.conv1 = nn.Conv2d(3, 6, 5)\n",
    "        # Añadimos una capa de agregación:\n",
    "        # - Tamaño de ventana 2x2\n",
    "        # - Deslizamos la ventana de a 2 casillas i.e. sin solapamiento.\n",
    "        self.pool = nn.MaxPool2d(2, 2)\n",
    "        # Añadimos otra convolución a los datos con:\n",
    "        # - 6 canales de entrada (Encajan con la salida del anterior)\n",
    "        # - 16 canales de salida (Encajan con la entrada del siguiente)\n",
    "        # - 5 tamaño del kernel (Un cuadrado de 5 pixels)\n",
    "        self.conv2 = nn.Conv2d(6, 16, 5)\n",
    "        # Aplicamos una capa totalmente conectada\n",
    "        # - N neurona de entrada (16 capas tenemos en la convolución\n",
    "        #   cada capa es 5x5, `((32 - 4)/2 - 4)/2 = 5` )\n",
    "        # - N neuronas de salida 120\n",
    "        self.fc1 = nn.Linear(16 * 5 * 5, 120)\n",
    "        # Aplicamos una capa totalmente conectada\n",
    "        # Lo comprimimos a 84 features\n",
    "        self.fc2 = nn.Linear(120, 84)\n",
    "        # Aplicamos una capa totalmente conectada\n",
    "        # Extraemos 10 features finalmente\n",
    "        self.fc3 = nn.Linear(84, 10)\n",
    "\n",
    "    def forward(self, x):\n",
    "        \"\"\"Definimos la función de propagación, es decir, definimos nuestra neurona\"\"\"\n",
    "        # Aplicamos la 1a convolución con función de activación `relu` y promediamos.\n",
    "        x = self.pool(F.relu(self.conv1(x)))\n",
    "        # Aplicamos la 2a convolución con función de activación `relu` y promediamos.\n",
    "        x = self.pool(F.relu(self.conv2(x)))\n",
    "        # Aplanamos para extraer el vector de Features\n",
    "        x = torch.flatten(x, 1)\n",
    "        # Aplicamos la 1a capa linear con función de activación `relu`\n",
    "        x = F.relu(self.fc1(x))\n",
    "        # Aplicamos la 2a capa linear con función de activación `relu`\n",
    "        x = F.relu(self.fc2(x))\n",
    "        # Aplicamos la última capa linear y devolvemos el resultado de la propagación.\n",
    "        x = self.fc3(x)\n",
    "        return x"
   ]
  },
  {
   "cell_type": "markdown",
   "metadata": {},
   "source": [
    "\n",
    "5. ¿Cuál es la estructura de los outputs que se obtienen en outputs = net(images)?"
   ]
  },
  {
   "cell_type": "markdown",
   "metadata": {},
   "source": []
  }
 ],
 "metadata": {
  "kernelspec": {
   "display_name": "aiiot",
   "language": "python",
   "name": "python3"
  },
  "language_info": {
   "codemirror_mode": {
    "name": "ipython",
    "version": 3
   },
   "file_extension": ".py",
   "mimetype": "text/x-python",
   "name": "python",
   "nbconvert_exporter": "python",
   "pygments_lexer": "ipython3",
   "version": "3.10.12"
  }
 },
 "nbformat": 4,
 "nbformat_minor": 2
}
